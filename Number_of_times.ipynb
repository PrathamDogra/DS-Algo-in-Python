{
 "cells": [
  {
   "cell_type": "code",
   "execution_count": 5,
   "metadata": {},
   "outputs": [],
   "source": [
    "#In an Array\n",
    "def findFrequency(arr):\n",
    "    map={}\n",
    "    for i in range(len(arr)):\n",
    "        if arr[i] in map:\n",
    "            map[arr[i]]+=1\n",
    "        else:\n",
    "            map[arr[i]]=1\n",
    "    return map"
   ]
  },
  {
   "cell_type": "code",
   "execution_count": null,
   "metadata": {},
   "outputs": [],
   "source": []
  },
  {
   "cell_type": "code",
   "execution_count": 29,
   "metadata": {},
   "outputs": [],
   "source": [
    "result=findFrequency(\"give me one grand today night\")"
   ]
  },
  {
   "cell_type": "code",
   "execution_count": 30,
   "metadata": {},
   "outputs": [
    {
     "data": {
      "text/plain": [
       "{'g': 3,\n",
       " 'i': 2,\n",
       " 'v': 1,\n",
       " 'e': 3,\n",
       " ' ': 5,\n",
       " 'm': 1,\n",
       " 'o': 2,\n",
       " 'n': 3,\n",
       " 'r': 1,\n",
       " 'a': 2,\n",
       " 'd': 2,\n",
       " 't': 2,\n",
       " 'y': 1,\n",
       " 'h': 1}"
      ]
     },
     "execution_count": 30,
     "metadata": {},
     "output_type": "execute_result"
    }
   ],
   "source": [
    "result"
   ]
  },
  {
   "cell_type": "code",
   "execution_count": 17,
   "metadata": {},
   "outputs": [],
   "source": [
    "from collections import Counter\n",
    "\n",
    "def ransom_note(magazine, rasom):\n",
    "    return (Counter(rasom) - Counter(magazine)) == {}      \n",
    "    \n",
    "\n"
   ]
  },
  {
   "cell_type": "code",
   "execution_count": 26,
   "metadata": {},
   "outputs": [],
   "source": [
    "magazine=\"give me one grand today night\"\n",
    "ransom=\"give one grand today is\""
   ]
  },
  {
   "cell_type": "code",
   "execution_count": 27,
   "metadata": {},
   "outputs": [
    {
     "name": "stdout",
     "output_type": "stream",
     "text": [
      "No\n"
     ]
    }
   ],
   "source": [
    "\n",
    "answer = ransom_note(magazine, ransom)\n",
    "if(answer):\n",
    "    print( \"Yes\")\n",
    "else:\n",
    "    print(\"No\")"
   ]
  },
  {
   "cell_type": "code",
   "execution_count": 28,
   "metadata": {},
   "outputs": [
    {
     "data": {
      "text/plain": [
       "Counter({'s': 1})"
      ]
     },
     "execution_count": 28,
     "metadata": {},
     "output_type": "execute_result"
    }
   ],
   "source": [
    "Counter(ransom) - Counter(magazine)"
   ]
  },
  {
   "cell_type": "code",
   "execution_count": 31,
   "metadata": {},
   "outputs": [
    {
     "data": {
      "text/plain": [
       "Counter({'g': 2,\n",
       "         'i': 2,\n",
       "         'v': 1,\n",
       "         'e': 2,\n",
       "         ' ': 4,\n",
       "         'o': 2,\n",
       "         'n': 2,\n",
       "         'r': 1,\n",
       "         'a': 2,\n",
       "         'd': 2,\n",
       "         't': 1,\n",
       "         'y': 1,\n",
       "         's': 1})"
      ]
     },
     "execution_count": 31,
     "metadata": {},
     "output_type": "execute_result"
    }
   ],
   "source": [
    "Counter(ransom)"
   ]
  },
  {
   "cell_type": "code",
   "execution_count": 32,
   "metadata": {},
   "outputs": [],
   "source": [
    "def checkMagazine(magazine, note):\n",
    "    \n",
    "    magazine_hash_count={}\n",
    "    for i in range(len(magazine)):\n",
    "        if magazine[i] in magazine_hash_count:\n",
    "            magazine_hash_count[magazine[i]]+=1\n",
    "        else:\n",
    "            magazine_hash_count[magazine[i]]=1\n",
    "    note_hash_count={}\n",
    "    for i in range(len(note)):\n",
    "        if note[i] in note_hash_count:\n",
    "            note_hash_count[note[i]]+=1\n",
    "        else:\n",
    "            note_hash_count[note[i]]=1\n",
    "    \n",
    "    print(magazine_hash_count)\n",
    "    print(note_hash_count)\n",
    "    return note_hash_count-magazine_hash_count=={}"
   ]
  },
  {
   "cell_type": "code",
   "execution_count": 35,
   "metadata": {},
   "outputs": [],
   "source": [
    "magazine=\"give me one grand today night\"\n",
    "ransom=\"give one grand today \""
   ]
  },
  {
   "cell_type": "code",
   "execution_count": 40,
   "metadata": {},
   "outputs": [
    {
     "data": {
      "text/plain": [
       "Counter({'g': 3,\n",
       "         'i': 2,\n",
       "         'v': 1,\n",
       "         'e': 3,\n",
       "         ' ': 5,\n",
       "         'm': 1,\n",
       "         'o': 2,\n",
       "         'n': 3,\n",
       "         'r': 1,\n",
       "         'a': 2,\n",
       "         'd': 2,\n",
       "         't': 2,\n",
       "         'y': 1,\n",
       "         'h': 1})"
      ]
     },
     "execution_count": 40,
     "metadata": {},
     "output_type": "execute_result"
    }
   ],
   "source": [
    "Counter(magazine)"
   ]
  },
  {
   "cell_type": "code",
   "execution_count": 39,
   "metadata": {},
   "outputs": [
    {
     "name": "stdout",
     "output_type": "stream",
     "text": [
      "{'g': 3, 'i': 2, 'v': 1, 'e': 3, ' ': 5, 'm': 1, 'o': 2, 'n': 3, 'r': 1, 'a': 2, 'd': 2, 't': 2, 'y': 1, 'h': 1}\n",
      "{'g': 2, 'i': 1, 'v': 1, 'e': 2, ' ': 4, 'o': 2, 'n': 2, 'r': 1, 'a': 2, 'd': 2, 't': 1, 'y': 1}\n"
     ]
    },
    {
     "ename": "TypeError",
     "evalue": "unsupported operand type(s) for -: 'dict' and 'dict'",
     "output_type": "error",
     "traceback": [
      "\u001b[1;31m---------------------------------------------------------------------------\u001b[0m",
      "\u001b[1;31mTypeError\u001b[0m                                 Traceback (most recent call last)",
      "\u001b[1;32m<ipython-input-39-a3be8c33de11>\u001b[0m in \u001b[0;36m<module>\u001b[1;34m\u001b[0m\n\u001b[1;32m----> 1\u001b[1;33m \u001b[0mcheckMagazine\u001b[0m\u001b[1;33m(\u001b[0m\u001b[0mmagazine\u001b[0m\u001b[1;33m,\u001b[0m \u001b[0mransom\u001b[0m\u001b[1;33m)\u001b[0m\u001b[1;33m\u001b[0m\u001b[1;33m\u001b[0m\u001b[0m\n\u001b[0m",
      "\u001b[1;32m<ipython-input-32-9148de9563d0>\u001b[0m in \u001b[0;36mcheckMagazine\u001b[1;34m(magazine, note)\u001b[0m\n\u001b[0;32m     16\u001b[0m     \u001b[0mprint\u001b[0m\u001b[1;33m(\u001b[0m\u001b[0mmagazine_hash_count\u001b[0m\u001b[1;33m)\u001b[0m\u001b[1;33m\u001b[0m\u001b[1;33m\u001b[0m\u001b[0m\n\u001b[0;32m     17\u001b[0m     \u001b[0mprint\u001b[0m\u001b[1;33m(\u001b[0m\u001b[0mnote_hash_count\u001b[0m\u001b[1;33m)\u001b[0m\u001b[1;33m\u001b[0m\u001b[1;33m\u001b[0m\u001b[0m\n\u001b[1;32m---> 18\u001b[1;33m     \u001b[1;32mreturn\u001b[0m \u001b[0mnote_hash_count\u001b[0m\u001b[1;33m-\u001b[0m\u001b[0mmagazine_hash_count\u001b[0m\u001b[1;33m==\u001b[0m\u001b[1;33m{\u001b[0m\u001b[1;33m}\u001b[0m\u001b[1;33m\u001b[0m\u001b[1;33m\u001b[0m\u001b[0m\n\u001b[0m",
      "\u001b[1;31mTypeError\u001b[0m: unsupported operand type(s) for -: 'dict' and 'dict'"
     ]
    }
   ],
   "source": [
    "checkMagazine(magazine, ransom)"
   ]
  },
  {
   "cell_type": "code",
   "execution_count": null,
   "metadata": {},
   "outputs": [],
   "source": [
    "answer = checkMagazine(magazine, ransom)\n",
    "if(answer):\n",
    "    print(\"Yes\")\n",
    "\n",
    "        \n",
    "else:\n",
    "    print(\"No\")"
   ]
  },
  {
   "cell_type": "code",
   "execution_count": 53,
   "metadata": {},
   "outputs": [],
   "source": [
    "array=[1,2,3,4,5]"
   ]
  },
  {
   "cell_type": "code",
   "execution_count": 54,
   "metadata": {},
   "outputs": [],
   "source": [
    "n=len(array)"
   ]
  },
  {
   "cell_type": "code",
   "execution_count": 55,
   "metadata": {},
   "outputs": [],
   "source": [
    "for i in range(1):\n",
    "    temp = array[n-1]\n",
    "    i=n\n",
    "    while(i>0):\n",
    "        array[i-1]=array[i-2]\n",
    "        i-=1\n",
    "    array[0]=temp\n",
    "        \n",
    "    \n",
    "    "
   ]
  },
  {
   "cell_type": "code",
   "execution_count": 56,
   "metadata": {},
   "outputs": [
    {
     "data": {
      "text/plain": [
       "[5, 1, 2, 3, 4]"
      ]
     },
     "execution_count": 56,
     "metadata": {},
     "output_type": "execute_result"
    }
   ],
   "source": [
    "array"
   ]
  },
  {
   "cell_type": "code",
   "execution_count": null,
   "metadata": {},
   "outputs": [],
   "source": []
  }
 ],
 "metadata": {
  "kernelspec": {
   "display_name": "Python 3",
   "language": "python",
   "name": "python3"
  },
  "language_info": {
   "codemirror_mode": {
    "name": "ipython",
    "version": 3
   },
   "file_extension": ".py",
   "mimetype": "text/x-python",
   "name": "python",
   "nbconvert_exporter": "python",
   "pygments_lexer": "ipython3",
   "version": "3.7.1"
  }
 },
 "nbformat": 4,
 "nbformat_minor": 2
}
