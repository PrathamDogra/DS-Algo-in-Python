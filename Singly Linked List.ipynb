{
 "cells": [
  {
   "cell_type": "code",
   "execution_count": 9,
   "metadata": {},
   "outputs": [],
   "source": [
    "#node\n",
    "class Node:\n",
    "    def __init__(self, data):\n",
    "        self.data = data\n",
    "        self.next = None"
   ]
  },
  {
   "cell_type": "code",
   "execution_count": 11,
   "metadata": {},
   "outputs": [],
   "source": [
    "# Adding Node at the end of the list( Append)\n",
    "class LinkedList:\n",
    "    def __init__(self):\n",
    "        self.head = None\n",
    "    \n",
    "    def print_linkedlist(self):\n",
    "        cur_node = self.head\n",
    "        while cur_node:\n",
    "            print(cur_node.data)\n",
    "#           print(cur_node.next)\n",
    "            cur_node = cur_node.next\n",
    "    def append(self, data):\n",
    "        new_node= Node(data)\n",
    "        if self.head is None:\n",
    "            self.head = new_node\n",
    "            return\n",
    "        node = self.head\n",
    "        while node.next:\n",
    "            node = node.next\n",
    "        node.next = new_node\n",
    "    # Adding a Node at the beginning of the List( Prepend) \n",
    "    def prepend(self, data):\n",
    "        new_node = Node(data)\n",
    "        new_node.next = self.head\n",
    "        self.head = new_node\n",
    "    # Adding the node anywhere\n",
    "    def anywhere(self, prev_node, data):\n",
    "        if not prev_node:\n",
    "            print(\"Previous node is not in the list\")\n",
    "            return \n",
    "\n",
    "        new_node = Node(data)\n",
    "        new_node.next = prev_node.next\n",
    "        prev_node.next = new_node\n",
    "    # Deleting a node from the List\n",
    "    def delete_node(self, key):\n",
    "        cur_node = self.head\n",
    "        # If Node deleted is the Head node\n",
    "        if cur_node and cur_node.data==key:\n",
    "            self.head = cur_node.next\n",
    "            cur_node = None\n",
    "            print(\"Head Node is deleted\")\n",
    "            return \n",
    "        # If Node deleted is the not the head Node\n",
    "        prev_node = None\n",
    "        while(cur_node and cur_node.data != key):\n",
    "            prev_node = cur_node\n",
    "            cur_node = cur_node.next\n",
    "        if cur_node is None:\n",
    "            print(\"Element is not present in the list\")\n",
    "            return\n",
    "            \n",
    "        prev_node.next = cur_node.next\n",
    "        cur_node = None\n",
    "        print(\"Element is deleted\")\n",
    "    def delete_pos(self, pos):\n",
    "        cur_node = self.head\n",
    "\n",
    "        if pos == 0:\n",
    "            self.head = cur_node.next\n",
    "            cur_node = None\n",
    "            return\n",
    "\n",
    "        prev = None\n",
    "        count = 0\n",
    "        while cur_node and count != pos:\n",
    "            prev = cur_node \n",
    "            cur_node = cur_node.next\n",
    "            count += 1\n",
    "\n",
    "        if cur_node is None:\n",
    "            return \n",
    "\n",
    "        prev.next = cur_node.next\n",
    "        cur_node = None            \n",
    "                \n",
    "                \n",
    "    def insertNodeAtPosition(self, data, position):\n",
    "        node = self.head\n",
    "        new_node = Node(data)\n",
    "        while(node and node.data != position):\n",
    "            node = node.next\n",
    "        \n",
    "        new_node.next = node.next\n",
    "        node.next = new_node\n",
    "    # Iterative Implementation\n",
    "    def len_iterative(self):\n",
    "        count = 0\n",
    "        cur_node = self.head\n",
    "        while cur_node:\n",
    "            count +=1\n",
    "            cur_node = cur_node.next\n",
    "        return count\n",
    "    \n",
    "    # Recursive Implementation\n",
    "    def len_recursive(self, node):\n",
    "        if node is None:\n",
    "            return 0\n",
    "        return 1 + self.len_recursive(node.next)\n",
    "    \n",
    "    def swap_nodes(self, key_1, key_2):\n",
    "        if key_1 == key_2:\n",
    "            return\n",
    "        prev_1 = None\n",
    "        cur_1 = self.head\n",
    "        while cur_1 and cur_1.data != key_1:\n",
    "            prev_1 = cur_1\n",
    "            cur_1 = cur_1.next\n",
    "        prev_2 = None\n",
    "        cur_2 = self.head\n",
    "        \n",
    "        while cur_2 and cur_2.data != key_2:\n",
    "            prev_2 = cur_2\n",
    "            cur_2 = cur_2.next\n",
    "        if not cur_1 or not cur_2:\n",
    "            return\n",
    "        if prev_1:\n",
    "            prev_1.next = cur_2\n",
    "        else:\n",
    "            self.head = cur_2\n",
    "        if prev_2:\n",
    "            prev_2.next = cur_1\n",
    "        else:\n",
    "            self.head = cur_1\n",
    "        cur_1.next, cur_2.next = cur_2.next, cur_1.next\n",
    "    def getNode(self, positionFromTail):\n",
    "        cur_node = self.head\n",
    "        node_count = 0\n",
    "        while cur_node:\n",
    "            node_count += 1\n",
    "            cur_node = cur_node.next\n",
    "        \n",
    "        if positionFromTail>=node_count:\n",
    "            return\n",
    "    \n",
    "        cur_node = self.head\n",
    "        for i in range(node_count-positionFromTail-1):\n",
    "            cur_node = cur_node.next\n",
    "    \n",
    "        return cur_node.data\n",
    "    \n",
    "    def reverse_linkedList(self):\n",
    "        prev_node = None\n",
    "        cur_node = self.head\n",
    "        while cur_node is not None:\n",
    "            next = cur_node.next\n",
    "            cur_node.next = prev_node\n",
    "            prev_node = cur_node\n",
    "            cur_node = next\n",
    "        self.head = prev_node\n",
    "    \n",
    "    def merge_sorted(self, llist):\n",
    "        p = self.head\n",
    "        q = llist.head\n",
    "        s = None\n",
    "        if not p:\n",
    "            return q\n",
    "        if not q:\n",
    "            return p\n",
    "        if p and q:\n",
    "            if p.data <= q.data:\n",
    "                s = p\n",
    "                p = s.next\n",
    "            else:\n",
    "                s = q\n",
    "                q = s.next\n",
    "            new_head = s\n",
    "        while p and q:\n",
    "            if p.data <= q.data:\n",
    "                s.next = p\n",
    "                s = p\n",
    "                p = s.next\n",
    "            else:\n",
    "                s.next = q\n",
    "                s = q\n",
    "                q = s.next\n",
    "        if not p:\n",
    "            s.next = q\n",
    "        if not q:\n",
    "            s.next = p\n",
    "        return new_head\n",
    "            \n",
    "        \n",
    "                \n",
    "        \n",
    "        \n",
    "    \n",
    "    \n",
    "\n",
    "        \n",
    "        \n",
    "        \n",
    "       \n",
    "    \n",
    "    \n",
    "    \n",
    "\n",
    "            \n",
    "                \n",
    "            \n",
    "                \n",
    "        \n",
    "        "
   ]
  },
  {
   "cell_type": "code",
   "execution_count": 12,
   "metadata": {},
   "outputs": [],
   "source": [
    "l1 = LinkedList()"
   ]
  },
  {
   "cell_type": "code",
   "execution_count": 13,
   "metadata": {},
   "outputs": [],
   "source": [
    "lis =[1, 5, 7, 9, 10]"
   ]
  },
  {
   "cell_type": "code",
   "execution_count": 14,
   "metadata": {},
   "outputs": [],
   "source": [
    "for node in lis:\n",
    "    l1.append(node)"
   ]
  },
  {
   "cell_type": "code",
   "execution_count": 15,
   "metadata": {},
   "outputs": [
    {
     "name": "stdout",
     "output_type": "stream",
     "text": [
      "1\n",
      "5\n",
      "7\n",
      "9\n",
      "10\n"
     ]
    }
   ],
   "source": [
    "l1.print_linkedlist()"
   ]
  },
  {
   "cell_type": "code",
   "execution_count": 16,
   "metadata": {},
   "outputs": [],
   "source": [
    "l2 =LinkedList()"
   ]
  },
  {
   "cell_type": "code",
   "execution_count": 17,
   "metadata": {},
   "outputs": [],
   "source": [
    "l = [2, 3, 4, 6, 8]"
   ]
  },
  {
   "cell_type": "code",
   "execution_count": 18,
   "metadata": {},
   "outputs": [],
   "source": [
    "for node in l:\n",
    "    l2.append(node)"
   ]
  },
  {
   "cell_type": "code",
   "execution_count": 19,
   "metadata": {},
   "outputs": [
    {
     "name": "stdout",
     "output_type": "stream",
     "text": [
      "2\n",
      "3\n",
      "4\n",
      "6\n",
      "8\n"
     ]
    }
   ],
   "source": [
    "l2.print_linkedlist()"
   ]
  },
  {
   "cell_type": "code",
   "execution_count": 20,
   "metadata": {},
   "outputs": [
    {
     "data": {
      "text/plain": [
       "<__main__.Node at 0x2ec46f382b0>"
      ]
     },
     "execution_count": 20,
     "metadata": {},
     "output_type": "execute_result"
    }
   ],
   "source": [
    "l1.merge_sorted(l2)"
   ]
  },
  {
   "cell_type": "code",
   "execution_count": 21,
   "metadata": {},
   "outputs": [
    {
     "name": "stdout",
     "output_type": "stream",
     "text": [
      "1\n",
      "2\n",
      "3\n",
      "4\n",
      "5\n",
      "6\n",
      "7\n",
      "8\n",
      "9\n",
      "10\n"
     ]
    }
   ],
   "source": [
    "l1.print_linkedlist()"
   ]
  },
  {
   "cell_type": "code",
   "execution_count": 7,
   "metadata": {},
   "outputs": [],
   "source": [
    "l1.reverse_linkedList()"
   ]
  },
  {
   "cell_type": "code",
   "execution_count": 11,
   "metadata": {},
   "outputs": [
    {
     "data": {
      "text/plain": [
       "<__main__.Node at 0x1ec32fd4898>"
      ]
     },
     "execution_count": 11,
     "metadata": {},
     "output_type": "execute_result"
    }
   ],
   "source": [
    "l1.head"
   ]
  },
  {
   "cell_type": "code",
   "execution_count": 20,
   "metadata": {},
   "outputs": [
    {
     "ename": "AttributeError",
     "evalue": "'NoneType' object has no attribute 'next'",
     "output_type": "error",
     "traceback": [
      "\u001b[1;31m---------------------------------------------------------------------------\u001b[0m",
      "\u001b[1;31mAttributeError\u001b[0m                            Traceback (most recent call last)",
      "\u001b[1;32m<ipython-input-20-e8e5f5beff7c>\u001b[0m in \u001b[0;36m<module>\u001b[1;34m\u001b[0m\n\u001b[1;32m----> 1\u001b[1;33m \u001b[0ml1\u001b[0m\u001b[1;33m.\u001b[0m\u001b[0minsertNodeAtPosition\u001b[0m\u001b[1;33m(\u001b[0m\u001b[1;34m'Z'\u001b[0m\u001b[1;33m,\u001b[0m\u001b[1;36m1\u001b[0m\u001b[1;33m)\u001b[0m\u001b[1;33m\u001b[0m\u001b[1;33m\u001b[0m\u001b[0m\n\u001b[0m",
      "\u001b[1;32m<ipython-input-15-39c9aed0cb38>\u001b[0m in \u001b[0;36minsertNodeAtPosition\u001b[1;34m(self, data, position)\u001b[0m\n\u001b[0;32m     81\u001b[0m         \u001b[1;32mwhile\u001b[0m\u001b[1;33m(\u001b[0m\u001b[0mnode\u001b[0m \u001b[1;32mand\u001b[0m \u001b[0mnode\u001b[0m\u001b[1;33m.\u001b[0m\u001b[0mdata\u001b[0m \u001b[1;33m!=\u001b[0m \u001b[0mposition\u001b[0m\u001b[1;33m)\u001b[0m\u001b[1;33m:\u001b[0m\u001b[1;33m\u001b[0m\u001b[1;33m\u001b[0m\u001b[0m\n\u001b[0;32m     82\u001b[0m             \u001b[0mnode\u001b[0m \u001b[1;33m=\u001b[0m \u001b[0mnode\u001b[0m\u001b[1;33m.\u001b[0m\u001b[0mnext\u001b[0m\u001b[1;33m\u001b[0m\u001b[1;33m\u001b[0m\u001b[0m\n\u001b[1;32m---> 83\u001b[1;33m         \u001b[0mnew_node\u001b[0m\u001b[1;33m.\u001b[0m\u001b[0mnext\u001b[0m \u001b[1;33m=\u001b[0m \u001b[0mnode\u001b[0m\u001b[1;33m.\u001b[0m\u001b[0mnext\u001b[0m\u001b[1;33m\u001b[0m\u001b[1;33m\u001b[0m\u001b[0m\n\u001b[0m\u001b[0;32m     84\u001b[0m         \u001b[0mnode\u001b[0m\u001b[1;33m.\u001b[0m\u001b[0mnext\u001b[0m \u001b[1;33m=\u001b[0m \u001b[0mnew_node\u001b[0m\u001b[1;33m\u001b[0m\u001b[1;33m\u001b[0m\u001b[0m\n\u001b[0;32m     85\u001b[0m     \u001b[1;31m# Iterative Implementation\u001b[0m\u001b[1;33m\u001b[0m\u001b[1;33m\u001b[0m\u001b[1;33m\u001b[0m\u001b[0m\n",
      "\u001b[1;31mAttributeError\u001b[0m: 'NoneType' object has no attribute 'next'"
     ]
    }
   ],
   "source": [
    "l1.insertNodeAtPosition('Z',1)"
   ]
  },
  {
   "cell_type": "code",
   "execution_count": 9,
   "metadata": {},
   "outputs": [
    {
     "data": {
      "text/plain": [
       "'G'"
      ]
     },
     "execution_count": 9,
     "metadata": {},
     "output_type": "execute_result"
    }
   ],
   "source": [
    "l1.getNode(0)"
   ]
  },
  {
   "cell_type": "code",
   "execution_count": 12,
   "metadata": {},
   "outputs": [],
   "source": [
    "l1.reverse_linkedList()"
   ]
  },
  {
   "cell_type": "code",
   "execution_count": 52,
   "metadata": {},
   "outputs": [],
   "source": [
    "l1.delete_pos(2)"
   ]
  },
  {
   "cell_type": "code",
   "execution_count": 50,
   "metadata": {},
   "outputs": [
    {
     "data": {
      "text/plain": [
       "6"
      ]
     },
     "execution_count": 50,
     "metadata": {},
     "output_type": "execute_result"
    }
   ],
   "source": [
    "l1.len_iterative()"
   ]
  },
  {
   "cell_type": "code",
   "execution_count": 39,
   "metadata": {},
   "outputs": [
    {
     "data": {
      "text/plain": [
       "7"
      ]
     },
     "execution_count": 39,
     "metadata": {},
     "output_type": "execute_result"
    }
   ],
   "source": [
    "l1.len_recursive(l1.head)"
   ]
  },
  {
   "cell_type": "code",
   "execution_count": null,
   "metadata": {},
   "outputs": [],
   "source": []
  },
  {
   "cell_type": "code",
   "execution_count": 1,
   "metadata": {},
   "outputs": [],
   "source": [
    "a, b = 4, 5"
   ]
  },
  {
   "cell_type": "code",
   "execution_count": 3,
   "metadata": {},
   "outputs": [
    {
     "name": "stdout",
     "output_type": "stream",
     "text": [
      "4 and 5\n"
     ]
    }
   ],
   "source": [
    "print(a, \"and\", b)"
   ]
  },
  {
   "cell_type": "code",
   "execution_count": 22,
   "metadata": {},
   "outputs": [],
   "source": [
    "l1.swap_nodes('D', 'A')"
   ]
  },
  {
   "cell_type": "code",
   "execution_count": 23,
   "metadata": {},
   "outputs": [
    {
     "name": "stdout",
     "output_type": "stream",
     "text": [
      "A\n",
      "B\n",
      "C\n",
      "D\n",
      "E\n",
      "F\n",
      "G\n"
     ]
    }
   ],
   "source": [
    "l1.print_linkedlist()"
   ]
  },
  {
   "cell_type": "code",
   "execution_count": 52,
   "metadata": {},
   "outputs": [],
   "source": [
    "n=127"
   ]
  },
  {
   "cell_type": "code",
   "execution_count": 53,
   "metadata": {},
   "outputs": [],
   "source": [
    "revNum=int(str(n)[::-1])"
   ]
  },
  {
   "cell_type": "code",
   "execution_count": 54,
   "metadata": {},
   "outputs": [
    {
     "data": {
      "text/plain": [
       "721"
      ]
     },
     "execution_count": 54,
     "metadata": {},
     "output_type": "execute_result"
    }
   ],
   "source": [
    "revNum"
   ]
  },
  {
   "cell_type": "code",
   "execution_count": 55,
   "metadata": {},
   "outputs": [
    {
     "data": {
      "text/plain": [
       "127"
      ]
     },
     "execution_count": 55,
     "metadata": {},
     "output_type": "execute_result"
    }
   ],
   "source": [
    "num"
   ]
  },
  {
   "cell_type": "code",
   "execution_count": 66,
   "metadata": {},
   "outputs": [
    {
     "data": {
      "text/plain": [
       "189.0"
      ]
     },
     "execution_count": 66,
     "metadata": {},
     "output_type": "execute_result"
    }
   ],
   "source": [
    "abs(-189.00)"
   ]
  },
  {
   "cell_type": "code",
   "execution_count": 65,
   "metadata": {},
   "outputs": [
    {
     "data": {
      "text/plain": [
       "True"
      ]
     },
     "execution_count": 65,
     "metadata": {},
     "output_type": "execute_result"
    }
   ],
   "source": [
    "(89.0).is_integer()"
   ]
  },
  {
   "cell_type": "code",
   "execution_count": 67,
   "metadata": {},
   "outputs": [],
   "source": [
    "n = 89.0"
   ]
  },
  {
   "cell_type": "code",
   "execution_count": 68,
   "metadata": {},
   "outputs": [
    {
     "data": {
      "text/plain": [
       "True"
      ]
     },
     "execution_count": 68,
     "metadata": {},
     "output_type": "execute_result"
    }
   ],
   "source": [
    "n.is_integer()"
   ]
  },
  {
   "cell_type": "code",
   "execution_count": 74,
   "metadata": {},
   "outputs": [
    {
     "data": {
      "text/plain": [
       "44"
      ]
     },
     "execution_count": 74,
     "metadata": {},
     "output_type": "execute_result"
    }
   ],
   "source": [
    "89//2"
   ]
  },
  {
   "cell_type": "code",
   "execution_count": 75,
   "metadata": {},
   "outputs": [
    {
     "data": {
      "text/plain": [
       "7"
      ]
     },
     "execution_count": 75,
     "metadata": {},
     "output_type": "execute_result"
    }
   ],
   "source": [
    "min(7,8)"
   ]
  },
  {
   "cell_type": "code",
   "execution_count": null,
   "metadata": {},
   "outputs": [],
   "source": []
  }
 ],
 "metadata": {
  "kernelspec": {
   "display_name": "Python 3",
   "language": "python",
   "name": "python3"
  },
  "language_info": {
   "codemirror_mode": {
    "name": "ipython",
    "version": 3
   },
   "file_extension": ".py",
   "mimetype": "text/x-python",
   "name": "python",
   "nbconvert_exporter": "python",
   "pygments_lexer": "ipython3",
   "version": "3.7.1"
  }
 },
 "nbformat": 4,
 "nbformat_minor": 2
}
