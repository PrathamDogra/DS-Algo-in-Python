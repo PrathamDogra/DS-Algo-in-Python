{
 "cells": [
  {
   "cell_type": "code",
   "execution_count": 4,
   "metadata": {},
   "outputs": [],
   "source": [
    "#node\n",
    "class Node:\n",
    "    def __init__(self, data):\n",
    "        self.data = data\n",
    "        self.next = None"
   ]
  },
  {
   "cell_type": "code",
   "execution_count": 5,
   "metadata": {},
   "outputs": [],
   "source": [
    "# Adding Node at the end of the list( Append)\n",
    "class LinkedList:\n",
    "    def __init__(self):\n",
    "        self.head = None\n",
    "    \n",
    "    def print_linkedlist(self):\n",
    "        cur_node = self.head\n",
    "        while cur_node:\n",
    "            print(cur_node.data)\n",
    "#           print(cur_node.next)\n",
    "            cur_node = cur_node.next\n",
    "    def append(self, data):\n",
    "        new_node= Node(data)\n",
    "        if self.head is None:\n",
    "            self.head = new_node\n",
    "            return\n",
    "        node = self.head\n",
    "        while node.next:\n",
    "            node = node.next\n",
    "        node.next = new_node\n",
    "    # Adding a Node at the beginning of the List( Prepend) \n",
    "    def prepend(self, data):\n",
    "        new_node = Node(data)\n",
    "        new_node.next = self.head\n",
    "        self.head = new_node\n",
    "    # Adding the node anywhere\n",
    "    def anywhere(self, prev_node, data):\n",
    "        if not prev_node:\n",
    "            print(\"Previous node is not in the list\")\n",
    "            return \n",
    "\n",
    "        new_node = Node(data)\n",
    "        new_node.next = prev_node.next\n",
    "        prev_node.next = new_node\n",
    "    # Deleting a node from the List\n",
    "    def delete_node(self, key):\n",
    "        cur_node = self.head\n",
    "        # If Node deleted is the Head node\n",
    "        if cur_node and cur_node.data==key:\n",
    "            self.head = cur_node.next\n",
    "            cur_node = None\n",
    "            print(\"Head Node is deleted\")\n",
    "            return \n",
    "        # If Node deleted is the not the head Node\n",
    "        prev_node = None\n",
    "        while(cur_node and cur_node.data != key):\n",
    "            prev_node = cur_node\n",
    "            cur_node = cur_node.next\n",
    "        if cur_node is None:\n",
    "            print(\"Element is not present in the list\")\n",
    "            return\n",
    "            \n",
    "        prev_node.next = cur_node.next\n",
    "        cur_node = None\n",
    "        print(\"Element is deleted\")\n",
    "    def insertNodeAtPosition(self, data, position):\n",
    "        node = self.head\n",
    "        new_node = Node(data)\n",
    "        while(node.next and node.data != position):\n",
    "            node = node.next\n",
    "        new_node.next = node\n",
    "        node.next = new_node\n",
    "        \n",
    "       \n",
    "    \n",
    "    \n",
    "    \n",
    "\n",
    "            \n",
    "                \n",
    "            \n",
    "                \n",
    "        \n",
    "        "
   ]
  },
  {
   "cell_type": "code",
   "execution_count": 6,
   "metadata": {},
   "outputs": [],
   "source": [
    "l1 = LinkedList()"
   ]
  },
  {
   "cell_type": "code",
   "execution_count": 7,
   "metadata": {},
   "outputs": [],
   "source": [
    "lis =['A', 'B', 'C', 'D', 'E', 'F', 'G']"
   ]
  },
  {
   "cell_type": "code",
   "execution_count": 8,
   "metadata": {},
   "outputs": [],
   "source": [
    "for node in lis:\n",
    "    l1.append(node)"
   ]
  },
  {
   "cell_type": "code",
   "execution_count": 10,
   "metadata": {},
   "outputs": [],
   "source": [
    "l1.insertNodeAtPosition('C', 'Y')"
   ]
  },
  {
   "cell_type": "code",
   "execution_count": null,
   "metadata": {},
   "outputs": [],
   "source": [
    "l1."
   ]
  },
  {
   "cell_type": "code",
   "execution_count": null,
   "metadata": {},
   "outputs": [],
   "source": []
  }
 ],
 "metadata": {
  "kernelspec": {
   "display_name": "Python 3",
   "language": "python",
   "name": "python3"
  },
  "language_info": {
   "codemirror_mode": {
    "name": "ipython",
    "version": 3
   },
   "file_extension": ".py",
   "mimetype": "text/x-python",
   "name": "python",
   "nbconvert_exporter": "python",
   "pygments_lexer": "ipython3",
   "version": "3.7.1"
  }
 },
 "nbformat": 4,
 "nbformat_minor": 2
}
