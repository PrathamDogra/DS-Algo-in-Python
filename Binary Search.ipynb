{
 "cells": [
  {
   "cell_type": "code",
   "execution_count": 4,
   "metadata": {},
   "outputs": [],
   "source": [
    "arr =[3,6,8,12,14,17,25,30]\n"
   ]
  },
  {
   "cell_type": "code",
   "execution_count": 5,
   "metadata": {},
   "outputs": [],
   "source": [
    "size = len(arr)"
   ]
  },
  {
   "cell_type": "code",
   "execution_count": 6,
   "metadata": {},
   "outputs": [
    {
     "name": "stdout",
     "output_type": "stream",
     "text": [
      "8\n"
     ]
    }
   ],
   "source": [
    "print(size)"
   ]
  },
  {
   "cell_type": "code",
   "execution_count": 27,
   "metadata": {},
   "outputs": [],
   "source": [
    "# Recursive Method\n",
    "def binarySearch(l, h, x):\n",
    "    if(l==h):\n",
    "        if(arr[l]==x):\n",
    "            return l\n",
    "        else:\n",
    "            return \"Not Found\"\n",
    "    else:\n",
    "        mid=int((l+h)/2)\n",
    "        if(x==arr[mid]):\n",
    "            return \"Element is found at index {element}\".format(element=mid)\n",
    "        elif(x>arr[mid]):\n",
    "            return binarySearch(mid+1, h, x)\n",
    "        elif(x<arr[mid]):\n",
    "            return binarySearch(l, mid-1, x)\n",
    "        \n",
    "        \n",
    "    "
   ]
  },
  {
   "cell_type": "code",
   "execution_count": 28,
   "metadata": {},
   "outputs": [
    {
     "data": {
      "text/plain": [
       "'Element is found at index 5'"
      ]
     },
     "execution_count": 28,
     "metadata": {},
     "output_type": "execute_result"
    }
   ],
   "source": [
    "binarySearch(0,7,17)"
   ]
  },
  {
   "cell_type": "code",
   "execution_count": 29,
   "metadata": {},
   "outputs": [
    {
     "data": {
      "text/plain": [
       "3"
      ]
     },
     "execution_count": 29,
     "metadata": {},
     "output_type": "execute_result"
    }
   ],
   "source": [
    "int(7/2)"
   ]
  },
  {
   "cell_type": "code",
   "execution_count": 12,
   "metadata": {},
   "outputs": [],
   "source": [
    "def binarySearchIterative(arr, n, key):\n",
    "    l=0\n",
    "    h=n-1\n",
    "    while(l<=h):\n",
    "        mid=int((l+h)/2)\n",
    "        if(key==arr[mid]):\n",
    "            return print(\"Element is found at index {element}\".format(element=mid))\n",
    "        elif(key<arr[mid]):\n",
    "            h=mid-1\n",
    "        elif(key>arr[mid]):\n",
    "            l=mid+1\n",
    "    return print(\"Not Found\")"
   ]
  },
  {
   "cell_type": "code",
   "execution_count": 14,
   "metadata": {},
   "outputs": [
    {
     "name": "stdout",
     "output_type": "stream",
     "text": [
      "Not Found\n"
     ]
    }
   ],
   "source": [
    "binarySearchIterative(arr,8, \n",
    "                      0)"
   ]
  },
  {
   "cell_type": "code",
   "execution_count": null,
   "metadata": {},
   "outputs": [],
   "source": []
  }
 ],
 "metadata": {
  "kernelspec": {
   "display_name": "Python 3",
   "language": "python",
   "name": "python3"
  },
  "language_info": {
   "codemirror_mode": {
    "name": "ipython",
    "version": 3
   },
   "file_extension": ".py",
   "mimetype": "text/x-python",
   "name": "python",
   "nbconvert_exporter": "python",
   "pygments_lexer": "ipython3",
   "version": "3.7.1"
  }
 },
 "nbformat": 4,
 "nbformat_minor": 2
}
