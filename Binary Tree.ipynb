{
 "cells": [
  {
   "cell_type": "code",
   "execution_count": 42,
   "metadata": {},
   "outputs": [],
   "source": [
    "class Node:\n",
    "    def __init__(self, value):\n",
    "        self.value = value\n",
    "        self.left = None\n",
    "        self.right = None\n",
    "        \n",
    "        "
   ]
  },
  {
   "cell_type": "code",
   "execution_count": 43,
   "metadata": {},
   "outputs": [],
   "source": [
    "class BinaryTree:\n",
    "    def __init__(self, root):\n",
    "        self.root = Node(root)\n",
    "    def print_tree(self, traversal_type):\n",
    "        if traversal_type==\"preorder\":\n",
    "            return self.preorder_print(tree.root)\n",
    "        elif traversal_type==\"inorder\":\n",
    "            return self.inorder_print(tree.root)\n",
    "        elif traversal_type==\"postorder\":\n",
    "            return self.postorder_print(tree.root)\n",
    "        \n",
    "        else:\n",
    "            print(\"Traversal type \"+ str(traversal_type)+\" is not supported.\")\n",
    "            return False\n",
    "\n",
    "    def preorder_print(self, start, traversal=\"\"):\n",
    "        \"\"\"Root-->Left-->Right\"\"\"\n",
    "        if start:\n",
    "            traversal += (str(start.value)+ \" \")\n",
    "            traversal = self.preorder_print(start.left, traversal)\n",
    "            traversal =self.preorder_print(start.right, traversal)\n",
    "        return traversal\n",
    "    \n",
    "    def inorder_print(self, start, traversal=\"\"):\n",
    "        \"\"\"Left-->Root-->Right\"\"\"\n",
    "        if start:\n",
    "            traversal = self.inorder_print(start.left, traversal)\n",
    "            traversal +=(str(start.value)+ \" \")\n",
    "            traversal =self.inorder_print(start.right, traversal)\n",
    "        return traversal\n",
    "    def postorder_print(self, start, traversal=\"\"):\n",
    "        \"\"\"Left-->Right-->Root\"\"\"\n",
    "        if start:\n",
    "            traversal = self.postorder_print(start.left, traversal)\n",
    "            traversal =self.postorder_print(start.right, traversal)\n",
    "            traversal +=(str(start.value)+ \" \")\n",
    "        return traversal\n",
    "            \n",
    "        \n",
    "        \n",
    "        \n",
    "        "
   ]
  },
  {
   "cell_type": "code",
   "execution_count": 44,
   "metadata": {},
   "outputs": [],
   "source": [
    "tree = BinaryTree(4)"
   ]
  },
  {
   "cell_type": "code",
   "execution_count": 45,
   "metadata": {},
   "outputs": [],
   "source": [
    "tree.root.left = Node(2)\n",
    "tree.root.left.left = Node(1)\n",
    "tree.root.left.right = Node(3)\n",
    "tree.root.right = Node(6)\n",
    "tree.root.right.left =Node(5)\n",
    "tree.root.right.right = Node(7)"
   ]
  },
  {
   "cell_type": "code",
   "execution_count": 46,
   "metadata": {},
   "outputs": [
    {
     "name": "stdout",
     "output_type": "stream",
     "text": [
      "4 2 1 3 6 5 7 \n"
     ]
    }
   ],
   "source": [
    "print(tree.print_tree(\"preorder\"))"
   ]
  },
  {
   "cell_type": "code",
   "execution_count": 47,
   "metadata": {},
   "outputs": [
    {
     "name": "stdout",
     "output_type": "stream",
     "text": [
      "1 2 3 4 5 6 7 \n"
     ]
    }
   ],
   "source": [
    " print(tree.print_tree(\"inorder\"))\n",
    "         "
   ]
  },
  {
   "cell_type": "code",
   "execution_count": 48,
   "metadata": {},
   "outputs": [
    {
     "name": "stdout",
     "output_type": "stream",
     "text": [
      "1 3 2 5 7 6 4 \n"
     ]
    }
   ],
   "source": [
    "print(tree.print_tree(\"postorder\"))"
   ]
  },
  {
   "cell_type": "code",
   "execution_count": null,
   "metadata": {},
   "outputs": [],
   "source": []
  }
 ],
 "metadata": {
  "kernelspec": {
   "display_name": "Python 3",
   "language": "python",
   "name": "python3"
  },
  "language_info": {
   "codemirror_mode": {
    "name": "ipython",
    "version": 3
   },
   "file_extension": ".py",
   "mimetype": "text/x-python",
   "name": "python",
   "nbconvert_exporter": "python",
   "pygments_lexer": "ipython3",
   "version": "3.7.1"
  }
 },
 "nbformat": 4,
 "nbformat_minor": 2
}
